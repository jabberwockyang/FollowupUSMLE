{
 "cells": [
  {
   "cell_type": "code",
   "execution_count": null,
   "metadata": {},
   "outputs": [],
   "source": [
    "import FollowUpAnalysis_readData as fud\n",
    "import FollowUpAnalysis_Plot as fup\n",
    "import pandas as pd\n",
    "import os\n",
    "current_dir = os.getcwd()\n",
    "working_dir = os.path.dirname(current_dir)"
   ]
  },
  {
   "cell_type": "markdown",
   "metadata": {},
   "source": [
    "# analysis by usmle test"
   ]
  },
  {
   "cell_type": "markdown",
   "metadata": {},
   "source": [
    "## load data"
   ]
  },
  {
   "cell_type": "code",
   "execution_count": null,
   "metadata": {},
   "outputs": [],
   "source": [
    "analysis_version_dir, modelname = f'{working_dir}/Data/Data2402', 'checkpoints2'\n",
    "# analysis_version_dir, modelname  = f'{working_dir}/Data/Data2312', 'checkpoints1'\n",
    "# analysis_version_dir, modelname  = f'{working_dir}/Data/Data2311', 'checkpoints0'\n",
    "\n",
    "follow = fud.read_followup_json_files_to_df_byusmletest(f'{analysis_version_dir}/{modelname}_annotated_jsons.json')\n",
    "aggdf = pd.read_csv(f'{analysis_version_dir}/5voteaggdf.csv')\n",
    "category_order = ['All True', 'Mostly True', 'Mostly False', 'All False']\n",
    "aggdf['performance'] = pd.Categorical(aggdf['performance'], \n",
    "                                            categories=category_order, \n",
    "                                            ordered=True)\n",
    "\n",
    "df = pd.merge(aggdf, follow, left_on= 'question', right_on='usmle_test', how='right')\n",
    "print(df.shape)\n",
    "df.head()"
   ]
  },
  {
   "cell_type": "markdown",
   "metadata": {},
   "source": [
    "## plot"
   ]
  },
  {
   "cell_type": "code",
   "execution_count": null,
   "metadata": {},
   "outputs": [],
   "source": [
    "follow_up_quality = df.loc[:,('question',\"basic_knowledge_count_of_false\",\n",
    "                                               'interpretation_and_association_count_of_false',\n",
    "                                               'total_count_of_false','performance'\n",
    "                                                          )]\n",
    "# change colname for ploting\n",
    "follow_up_quality.columns = ['question',\"wrong in basic_kno\",'wrong in interp_&_assoc',\n",
    "                             'wrong in total','performance']\n",
    "\n",
    "\n",
    "fup.plot_hist_performance_bycat(follow_up_quality,'performance','wrong in total',70,8)\n"
   ]
  },
  {
   "cell_type": "code",
   "execution_count": null,
   "metadata": {},
   "outputs": [],
   "source": [
    "fup.plot_hist_performance_bycat(follow_up_quality,'performance','wrong in basic_kno',120,8)"
   ]
  },
  {
   "cell_type": "code",
   "execution_count": null,
   "metadata": {},
   "outputs": [],
   "source": [
    "fup.plot_hist_performance_bycat(follow_up_quality,'performance','wrong in interp_&_assoc',120,8)"
   ]
  },
  {
   "cell_type": "markdown",
   "metadata": {},
   "source": [
    "# analysis by followup"
   ]
  },
  {
   "cell_type": "markdown",
   "metadata": {},
   "source": [
    "## loaddata"
   ]
  },
  {
   "cell_type": "code",
   "execution_count": null,
   "metadata": {},
   "outputs": [],
   "source": [
    "filelist = [f'{working_dir}/Data/Data2311/checkpoints0_annotated_jsons.json',\n",
    "            f'{working_dir}/Data/Data2312/checkpoints1_annotated_jsons.json',\n",
    "            f'{analysis_version_dir}/checkpoints2_annotated_jsons.json']\n",
    "\n",
    "filename = [filname.split('/')[-1].split('_annotated_jsons')[0] for filname in filelist]\n",
    "\n",
    "dflist = [fud.read_followup_json_files_to_df_byfollowupq(file) for file in filelist]\n",
    "\n",
    "aggdflist = [fud.summarize_performance(df,'classification') for df in dflist]\n",
    "# print(aggdflist[0].head())\n",
    "diagdflist= [fud.summarize_performance(df,'involve_diagnosis') for df in dflist]\n",
    "# print(diagdflist[0].head())\n",
    "keydflist = [fud.summarize_performance(df,'key') for df in dflist]\n",
    "# print(keydflist[0].head())"
   ]
  },
  {
   "cell_type": "code",
   "execution_count": null,
   "metadata": {},
   "outputs": [],
   "source": [
    "concatenateddf = pd.concat([df['percentage_of_true'].rename(filename) for df, filename in zip(keydflist, filename)], axis=1)\n",
    "concatenateddf.head()"
   ]
  },
  {
   "cell_type": "code",
   "execution_count": null,
   "metadata": {},
   "outputs": [],
   "source": [
    "concatenateddf = pd.concat([df['percentage_of_true'].rename(filename) for df, filename in zip(diagdflist, filename)], axis=1)\n",
    "concatenateddf.head()"
   ]
  },
  {
   "cell_type": "code",
   "execution_count": null,
   "metadata": {},
   "outputs": [],
   "source": [
    "concatenateddf = pd.concat([df['percentage_of_true'].rename(filename) for df, filename in zip(aggdflist, filename)], axis=1)\n",
    "concatenateddf.head()"
   ]
  },
  {
   "cell_type": "code",
   "execution_count": null,
   "metadata": {},
   "outputs": [],
   "source": [
    "concatenateddf = pd.concat([df[['count_of_all','percentage_of_false','count_of_false']].rename(columns={\n",
    "                                                                                        'count_of_all': f'{filename}_count_of_all',\n",
    "                                                                                        'percentage_of_false': f'{filename}_percentage_of_false',\n",
    "                                                                                        'count_of_false': f'{filename}_count_of_false'\n",
    "                                                                                            }) for df, filename in zip(aggdflist, filename)], axis=1)\n",
    "concatenateddf.to_csv(f'{analysis_version_dir}/classification_compare_df_falserate.csv')\n",
    "concatenateddf.head()"
   ]
  },
  {
   "cell_type": "markdown",
   "metadata": {},
   "source": [
    "## plot"
   ]
  },
  {
   "cell_type": "code",
   "execution_count": null,
   "metadata": {},
   "outputs": [],
   "source": [
    "for aggdf in aggdflist:\n",
    "    fup.plot_hist_for_followup_perform_byclass(aggdf,'count_of_all','category')"
   ]
  },
  {
   "cell_type": "code",
   "execution_count": null,
   "metadata": {},
   "outputs": [],
   "source": [
    "for aggdf in aggdflist:\n",
    "    fup.plot_hist_for_followup_perform_byclass(aggdf,'count_of_false','category')"
   ]
  },
  {
   "cell_type": "code",
   "execution_count": null,
   "metadata": {},
   "outputs": [],
   "source": [
    "for aggdf in aggdflist:\n",
    "    fup.plot_hist_for_followup_perform_byclass(aggdf,'percentage_of_false','category',percentage=True)"
   ]
  },
  {
   "cell_type": "markdown",
   "metadata": {},
   "source": []
  }
 ],
 "metadata": {
  "kernelspec": {
   "display_name": "base",
   "language": "python",
   "name": "python3"
  },
  "language_info": {
   "codemirror_mode": {
    "name": "ipython",
    "version": 3
   },
   "file_extension": ".py",
   "mimetype": "text/x-python",
   "name": "python",
   "nbconvert_exporter": "python",
   "pygments_lexer": "ipython3",
   "version": "3.9.18"
  }
 },
 "nbformat": 4,
 "nbformat_minor": 2
}
